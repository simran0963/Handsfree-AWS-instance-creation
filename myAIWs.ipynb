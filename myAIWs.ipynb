{
 "cells": [
  {
   "cell_type": "code",
   "execution_count": 1,
   "id": "6274fa89",
   "metadata": {},
   "outputs": [
    {
     "name": "stdout",
     "output_type": "stream",
     "text": [
      "Requirement already satisfied: opencv-python in c:\\development\\anaconda\\lib\\site-packages (4.8.0.76)\n",
      "Requirement already satisfied: numpy>=1.21.2 in c:\\development\\anaconda\\lib\\site-packages (from opencv-python) (1.24.3)\n",
      "Requirement already satisfied: cvzone in c:\\development\\anaconda\\lib\\site-packages (1.5.6)\n",
      "Requirement already satisfied: opencv-python in c:\\development\\anaconda\\lib\\site-packages (from cvzone) (4.8.0.76)\n",
      "Requirement already satisfied: numpy in c:\\development\\anaconda\\lib\\site-packages (from cvzone) (1.24.3)\n"
     ]
    }
   ],
   "source": [
    "!pip install opencv-python\n",
    "!pip install cvzone"
   ]
  },
  {
   "cell_type": "code",
   "execution_count": 2,
   "id": "4cfa55ce",
   "metadata": {},
   "outputs": [],
   "source": [
    "import cv2\n",
    "import os"
   ]
  },
  {
   "cell_type": "code",
   "execution_count": 3,
   "id": "29a6ddf9",
   "metadata": {},
   "outputs": [],
   "source": [
    "from cvzone.HandTrackingModule import HandDetector"
   ]
  },
  {
   "cell_type": "code",
   "execution_count": 4,
   "id": "65fa9a53",
   "metadata": {},
   "outputs": [],
   "source": [
    "cap = cv2.VideoCapture( 0 )"
   ]
  },
  {
   "cell_type": "code",
   "execution_count": null,
   "id": "ec11e8fd",
   "metadata": {},
   "outputs": [],
   "source": [
    "#click photo\n",
    "# status, photo = cap.read()\n",
    "\n",
    "# Live video Streaming\n",
    "while True:\n",
    "    status, photo = cap.read()\n",
    "    cv2.imshow(\"my photo\", photo)\n",
    "    if cv2.waitKey(100) == 13:\n",
    "        break\n",
    "        \n",
    "cv2.destroyallwindows()"
   ]
  },
  {
   "cell_type": "code",
   "execution_count": null,
   "id": "a341961f",
   "metadata": {},
   "outputs": [],
   "source": [
    "cap.release()\n",
    "detector = HandDetector()"
   ]
  },
  {
   "cell_type": "code",
   "execution_count": null,
   "id": "15197aa5",
   "metadata": {},
   "outputs": [],
   "source": [
    "# show the pic, from python code\n",
    "# cv2.imshow(\"my photo\" , photo)\n",
    "# cv2.waitKey(5000)\n",
    "# cv2.destroyAllWindows()"
   ]
  },
  {
   "cell_type": "code",
   "execution_count": null,
   "id": "561aaf3c",
   "metadata": {},
   "outputs": [],
   "source": [
    "handphoto = detector.findHands(photo , draw=False)\n",
    "lmlist = handphoto[0]\n",
    "fingerstatus = detector.fingersUp(lmlist)"
   ]
  },
  {
   "cell_type": "code",
   "execution_count": null,
   "id": "0433c4d6",
   "metadata": {},
   "outputs": [],
   "source": [
    "if fingerstatus == [1,1,1,1,1]:\n",
    "    print(\"all up\")\n",
    "    os.system(\"chrome\")\n",
    "\n",
    "elif fingerstatus == [ 0 ,1 ,0 , 0, 0]:\n",
    "    print(\"index finget up\")\n",
    "    os.system(\"chrome https://www.google.com/search?q=vimal+daga\")\n",
    "    \n",
    "elif fingerstatus == [ 0 , 1, 1, 0 , 0 ]:\n",
    "    print(\"index and middle finger up\")\n",
    "    os.system(\"notepad\") \n",
    "else:\n",
    "    print(\"idk\")"
   ]
  },
  {
   "cell_type": "code",
   "execution_count": null,
   "id": "d30c1864",
   "metadata": {},
   "outputs": [],
   "source": [
    "!pip install boto3"
   ]
  },
  {
   "cell_type": "code",
   "execution_count": null,
   "id": "eba74bc3",
   "metadata": {},
   "outputs": [],
   "source": [
    "import boto3"
   ]
  },
  {
   "cell_type": "code",
   "execution_count": null,
   "id": "b65eae89",
   "metadata": {},
   "outputs": [],
   "source": [
    "myec2 = boto3.resource(\"ec2\")"
   ]
  },
  {
   "cell_type": "code",
   "execution_count": null,
   "id": "ed2639a4",
   "metadata": {},
   "outputs": [],
   "source": [
    "# Login AWS"
   ]
  },
  {
   "cell_type": "code",
   "execution_count": null,
   "id": "b6915512",
   "metadata": {},
   "outputs": [],
   "source": [
    "response = myec2.create_instances(\n",
    "    ImageId = \"ami-0d63de463e6604d0a\",\n",
    "    InstanceType=\"t2.micro\",\n",
    "    MaxCount=1,\n",
    "    MinCount=1)"
   ]
  },
  {
   "cell_type": "markdown",
   "id": "4504ed33",
   "metadata": {},
   "source": []
  }
 ],
 "metadata": {
  "kernelspec": {
   "display_name": "Python 3 (ipykernel)",
   "language": "python",
   "name": "python3"
  },
  "language_info": {
   "codemirror_mode": {
    "name": "ipython",
    "version": 3
   },
   "file_extension": ".py",
   "mimetype": "text/x-python",
   "name": "python",
   "nbconvert_exporter": "python",
   "pygments_lexer": "ipython3",
   "version": "3.11.4"
  }
 },
 "nbformat": 4,
 "nbformat_minor": 5
}
