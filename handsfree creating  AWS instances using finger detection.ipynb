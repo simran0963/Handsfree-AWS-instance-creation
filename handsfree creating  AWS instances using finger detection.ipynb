{
 "cells": [
  {
   "cell_type": "markdown",
   "id": "4bea8d73",
   "metadata": {},
   "source": [
    "# Handsfree AWS instance creation"
   ]
  },
  {
   "cell_type": "code",
   "execution_count": 1,
   "id": "8c7c0b33",
   "metadata": {},
   "outputs": [],
   "source": [
    "import boto3\n",
    "# for integrating this application with AWS services like ec2, s3"
   ]
  },
  {
   "cell_type": "code",
   "execution_count": 2,
   "id": "6005fc06",
   "metadata": {},
   "outputs": [],
   "source": [
    "myec2 = boto3.resource(\"ec2\")"
   ]
  },
  {
   "cell_type": "code",
   "execution_count": 3,
   "id": "c6783618",
   "metadata": {},
   "outputs": [],
   "source": [
    "def launchOS():\n",
    "    response = myec2.create_instances(\n",
    "    ImageId = \"ami-0da59f1af71ea4ad2\",\n",
    "    InstanceType=\"t2.micro\",\n",
    "    MaxCount=1,\n",
    "    MinCount=1) "
   ]
  },
  {
   "cell_type": "code",
   "execution_count": 4,
   "id": "e1b80a2a",
   "metadata": {},
   "outputs": [],
   "source": [
    "import cv2\n",
    "# to work with images captured using camera from opencv"
   ]
  },
  {
   "cell_type": "code",
   "execution_count": 5,
   "id": "56ff28e2",
   "metadata": {},
   "outputs": [],
   "source": [
    "cap = cv2.VideoCapture( 0 )"
   ]
  },
  {
   "cell_type": "code",
   "execution_count": 6,
   "id": "f8745b57",
   "metadata": {},
   "outputs": [],
   "source": [
    "from cvzone.HandTrackingModule import HandDetector"
   ]
  },
  {
   "cell_type": "code",
   "execution_count": 7,
   "id": "8aba87e7",
   "metadata": {},
   "outputs": [],
   "source": [
    "detector = HandDetector()"
   ]
  },
  {
   "cell_type": "code",
   "execution_count": null,
   "id": "cb5910b5",
   "metadata": {},
   "outputs": [
    {
     "name": "stdout",
     "output_type": "stream",
     "text": [
      "Index and Middle fingers are up, 2 instances created.\n",
      "One finger up, an instance created\n"
     ]
    }
   ],
   "source": [
    "while True:\n",
    "    status, photo = cap.read()\n",
    "    cv2.imshow(\"my photo\", photo)\n",
    "    if cv2.waitKey(100) == 13:\n",
    "        break\n",
    "    handphoto = detector.findHands(photo , draw=False)\n",
    "    \n",
    "    if handphoto:\n",
    "        lmlist = handphoto[0]\n",
    "        fingerstatus = detector.fingersUp(lmlist)\n",
    "\n",
    "        if fingerstatus == [1,1,1,1,1]:\n",
    "            print(\"all up, 5 instances created\")\n",
    "            launchOS()\n",
    "            launchOS()\n",
    "            launchOS()\n",
    "            launchOS()\n",
    "            launchOS()\n",
    "        \n",
    "        elif fingerstatus == [0,1,1,1,1]:\n",
    "            print(\"Index, Middle, Ring and Little fingers are up, 4 instances created.\")\n",
    "            launchOS()\n",
    "            launchOS()\n",
    "            launchOS()\n",
    "            launchOS()\n",
    "            \n",
    "        elif fingerstatus == [0,1,1,1,0]:\n",
    "            print(\"Index, Middle and Ring fingers are up, 3 instances created.\")\n",
    "            launchOS()\n",
    "            launchOS()\n",
    "            launchOS()\n",
    "            \n",
    "        elif fingerstatus == [0,1,1,0,0]:\n",
    "            print(\"Index and Middle fingers are up, 2 instances created.\")\n",
    "            launchOS()\n",
    "            launchOS()\n",
    "            \n",
    "        elif fingerstatus == [0,1,0,0,0]:\n",
    "            print(\"Index finger up, 1 instance created.\")\n",
    "            launchOS()\n",
    "    \n",
    "        elif fingerstatus == [1,0,0,0,0] or fingerstatus == [0,0,1,0,0] or fingerstatus == [0,0,0,1,0] or fingerstatus == [0,0,0,0,1]:\n",
    "            print(\"One finger up, an instance created\")\n",
    "            launchOS()\n",
    "            \n",
    "        elif fingerstatus == [1,1,0,0,0] or fingerstatus == [1, 0, 1, 0, 0] or fingerstatus == [1, 0, 0, 1, 0] or fingerstatus == [1, 0, 0, 0, 1] or fingerstatus == [0, 1, 0, 1, 0] or fingerstatus == [0, 1, 0, 0, 1] or fingerstatus == [0, 0, 1, 1, 0] or fingerstatus == [0, 0, 1, 0, 1] or fingerstatus == [0, 0, 0, 1, 1]:\n",
    "            print(\"Two fingers up, 2 instances created.\")\n",
    "            launchOS()\n",
    "            launchOS()\n",
    "        \n",
    "        elif fingerstatus == [1, 1, 1, 0, 0] or fingerstatus == [1, 1, 0, 1, 0] or fingerstatus == [1, 1, 0, 0, 1] or fingerstatus == [1, 0, 1, 1, 0] or fingerstatus == [1, 0, 1, 0, 1] or fingerstatus == [1, 0, 0, 1, 1] or fingerstatus == [0, 1, 1, 0, 1] or fingerstatus == [0, 1, 0, 1, 1] or fingerstatus == [0, 0, 1, 1, 1]:\n",
    "            print(\"Three fingers up, 3 instances created.\")\n",
    "            launchOS()\n",
    "            launchOS()\n",
    "            launchOS()\n",
    "            \n",
    "        elif fingerstatus == [1, 1, 1, 1, 0] or fingerstatus == [1, 1, 1, 0, 1] or fingerstatus == [1, 1, 0, 1, 1] or fingerstatus == [1, 0, 1, 1, 1]:\n",
    "            print(\"Four fingers up, creating 4 instances.\")\n",
    "            launchOS()\n",
    "            launchOS()\n",
    "            launchOS()\n",
    "            launchOS()\n",
    "    \n",
    "        else:\n",
    "            print(\"idk\")\n",
    "cv2.destroyAllWindows()"
   ]
  },
  {
   "cell_type": "code",
   "execution_count": null,
   "id": "21c77cc6",
   "metadata": {},
   "outputs": [],
   "source": [
    "cap.release()"
   ]
  }
 ],
 "metadata": {
  "kernelspec": {
   "display_name": "Python 3 (ipykernel)",
   "language": "python",
   "name": "python3"
  },
  "language_info": {
   "codemirror_mode": {
    "name": "ipython",
    "version": 3
   },
   "file_extension": ".py",
   "mimetype": "text/x-python",
   "name": "python",
   "nbconvert_exporter": "python",
   "pygments_lexer": "ipython3",
   "version": "3.11.4"
  }
 },
 "nbformat": 4,
 "nbformat_minor": 5
}
